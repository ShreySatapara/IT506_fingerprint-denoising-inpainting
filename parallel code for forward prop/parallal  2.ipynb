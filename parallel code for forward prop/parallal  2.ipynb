{
  "nbformat": 4,
  "nbformat_minor": 0,
  "metadata": {
    "colab": {
      "name": "FP.ipynb",
      "provenance": []
    },
    "kernelspec": {
      "name": "python3",
      "display_name": "Python 3"
    },
    "language_info": {
      "name": "python"
    },
    "accelerator": "GPU"
  },
  "cells": [
    {
      "cell_type": "code",
      "metadata": {
        "id": "mR_Ov-s5e7Jc"
      },
      "source": [
        "pip install pycuda"
      ],
      "execution_count": null,
      "outputs": []
    },
    {
      "cell_type": "code",
      "metadata": {
        "id": "HvHjhu3K2-CK"
      },
      "source": [
        "import pycuda.driver as cuda\n",
        "import pycuda.autoinit\n",
        "from pycuda.compiler import SourceModule\n",
        "import numpy\n",
        "import time\n",
        "import math"
      ],
      "execution_count": 2,
      "outputs": []
    },
    {
      "cell_type": "code",
      "metadata": {
        "id": "cWzN7TEKNEzN"
      },
      "source": [
        "import numpy\n",
        "import h5py\n",
        "import matplotlib.pyplot as plt\n",
        "\n",
        "%matplotlib inline\n",
        "plt.rcParams['figure.figsize'] = (5.0, 4.0) # set default size of plots\n",
        "plt.rcParams['image.interpolation'] = 'nearest'\n",
        "plt.rcParams['image.cmap'] = 'gray'\n",
        "\n",
        "%load_ext autoreload\n",
        "%autoreload 2\n",
        "\n",
        "# numpy.random.seed(1)"
      ],
      "execution_count": 3,
      "outputs": []
    },
    {
      "cell_type": "code",
      "metadata": {
        "id": "yqJri1AFARz4"
      },
      "source": [
        "def formatting(a): #needed only once\n",
        "\n",
        "    try:\n",
        "        (f_h,f_w,ch,filters) = a.shape\n",
        "        b = numpy.zeros((filters,ch,f_h,f_w))\n",
        "        x = len(a[0][0][0])\n",
        "        for i in range(len(a)):\n",
        "            for j in range(len(a[0])):\n",
        "                for k in range(len(a[0][0])):\n",
        "                    for l in range(len(a[0][0][0])):\n",
        "                        b[l][k][i][j] = a[i][j][k][l]\n",
        "\n",
        "    except:\n",
        "        (height,width,channel) = a.shape\n",
        "        b = numpy.zeros((channel,height,width))\n",
        "        for i in range(len(a)):\n",
        "            for j in range(len(a[0])):\n",
        "                for k in range(len(a[0][0])):\n",
        "                    b[k][i][j] = a[i][j][k]\n",
        "    return b"
      ],
      "execution_count": 4,
      "outputs": []
    },
    {
      "cell_type": "code",
      "metadata": {
        "id": "kbV7hhJ-t-AG"
      },
      "source": [
        "def weight_transpose_formatting(a):\n",
        "    (f_h,f_w,filters,ch) = a.shape\n",
        "    b = numpy.zeros((filters,ch,f_h,f_w))\n",
        "    x = len(a[0][0][0])\n",
        "    for i in range(len(a)):\n",
        "        for j in range(len(a[0])):\n",
        "            for k in range(len(a[0][0])):\n",
        "                for l in range(len(a[0][0][0])):\n",
        "                    b[k][l][i][j] = a[i][j][k][l]\n",
        "    return b"
      ],
      "execution_count": 5,
      "outputs": []
    },
    {
      "cell_type": "code",
      "metadata": {
        "id": "o4EoxvbtVMMe"
      },
      "source": [
        "def deformatting(X): #needed only once\n",
        "    (ch,height,width) = X.shape\n",
        "    Y = numpy.zeros((height,width,ch))\n",
        "    for i in range(len(X[0])):\n",
        "        for j in range(len(X[0][0])):\n",
        "            for k in range(len(X)):\n",
        "                Y[i][j][k] = X[k][i][j]\n",
        "    return Y"
      ],
      "execution_count": 6,
      "outputs": []
    },
    {
      "cell_type": "code",
      "metadata": {
        "id": "gJ39Q8daQUpX"
      },
      "source": [
        "def relu_exp(a):\n",
        "    for dim1 in range(a.shape[0]):\n",
        "        for dim2 in range(a.shape[1]):\n",
        "            if(a[dim1][dim2]<0.0):\n",
        "                a[dim1][dim2] = 0.0\n",
        "    return a"
      ],
      "execution_count": 7,
      "outputs": []
    },
    {
      "cell_type": "code",
      "metadata": {
        "colab": {
          "base_uri": "https://localhost:8080/"
        },
        "id": "_4VqeQY7YlRj",
        "outputId": "27c3f905-8c9b-4b6b-87ab-74074d810857"
      },
      "source": [
        "import cv2\n",
        "img = numpy.resize(cv2.imread('/content/1.jpg')/255.,(400,288,3))\n",
        "#print(img)\n",
        "img = formatting(img)\n",
        "print(img.shape)"
      ],
      "execution_count": 8,
      "outputs": [
        {
          "output_type": "stream",
          "name": "stdout",
          "text": [
            "(3, 400, 288)\n"
          ]
        }
      ]
    },
    {
      "cell_type": "code",
      "metadata": {
        "id": "Zaa9mNBQrfA8"
      },
      "source": [
        "def kernel_for_sum(arr1,arr2):\n",
        "\n",
        "    h = numpy.int32(len(arr1))\n",
        "    w = numpy.int32(len(arr1[0]))\n",
        "\n",
        "    grid_h = math.ceil(h/32)\n",
        "    grid_w = math.ceil(w/32)\n",
        "\n",
        "    arr1_d = cuda.mem_alloc(arr1.nbytes)\n",
        "    arr2_d = cuda.mem_alloc(arr2.nbytes)\n",
        "\n",
        "    cuda.memcpy_htod(arr1_d,arr1)\n",
        "    cuda.memcpy_htod(arr2_d,arr2)\n",
        "\n",
        "    mod = SourceModule(\"\"\"\n",
        "    __global__ void Sum_of_arrays(float *arr1_d, float *arr2_d, int w) {\n",
        "            int row = blockIdx.y*blockDim.y + threadIdx.y;\n",
        "            int col = blockIdx.x*blockDim.y + threadIdx.x;\n",
        "\n",
        "            arr1_d[row*w + col] = arr1_d[row*w + col] + arr2_d[row*w + col];\n",
        "        }\n",
        "    \"\"\")\n",
        "\n",
        "    Sum_of_arrays = mod.get_function(\"Sum_of_arrays\")\n",
        "    Sum_of_arrays(arr1_d,arr2_d,w,block=(32,32,1),grid=(grid_w,grid_h,1))\n",
        "\n",
        "    cuda.memcpy_dtoh(arr1,arr1_d)\n",
        "    return arr1"
      ],
      "execution_count": 9,
      "outputs": []
    },
    {
      "cell_type": "code",
      "metadata": {
        "id": "4yOytgL7mRhX"
      },
      "source": [
        "def convolution_single_step_volume(tempinput, tempfilter, tempoutput, bais):\n",
        "\n",
        "    mod = SourceModule(\"\"\"\n",
        "__global__ void convolution_2d_volume(float *inumpyut, float *filter, float *output, int height, int width, int channels){\n",
        "    int FILTER_DIM = 3;\n",
        "    int FILTER_OFFSET = FILTER_DIM/2 ;\n",
        "\n",
        "    int row = blockIdx.y * blockDim.y + threadIdx.y;\n",
        "    int col = blockIdx.x * blockDim.x + threadIdx.x;\n",
        "\n",
        "    int start_r = row - FILTER_OFFSET;\n",
        "    int start_c = col - FILTER_OFFSET;\n",
        "\n",
        "    float temp = 0;\n",
        "    int no_of_pixels = height*width;\n",
        "    if((row<height)&&(col<width)){\n",
        "        for (int k = 0; k < channels; k++){\n",
        "            for (int i = 0; i < FILTER_DIM; i++){\n",
        "                for (int j = 0; j < FILTER_DIM; j++){\n",
        "                    if ((start_r + i) >= 0 && (start_r + i) < height){\n",
        "                        if ((start_c + j) >= 0 && (start_c + j) < width){\n",
        "                            temp += inumpyut[k*no_of_pixels + (start_r + i) * width + (start_c + j)] * filter[k*FILTER_DIM*FILTER_DIM + i * FILTER_DIM + j];\n",
        "                        }\n",
        "                    }\n",
        "                }\n",
        "            }\n",
        "        }\n",
        "        output[row * width + col] = temp;\n",
        "    }\n",
        "\n",
        "    \n",
        "}\n",
        "\"\"\")\n",
        "    (ch, h, w) = tempinput.shape\n",
        "    height = numpy.int32(h)\n",
        "    width = numpy.int32(w)\n",
        "    channels = numpy.int32(ch)\n",
        "    \n",
        "    gridHeight = math.ceil(h/32)\n",
        "    gridWidth = math.ceil(w/32)\n",
        "\n",
        "    #start = time.time()\n",
        "    conv = mod.get_function(\"convolution_2d_volume\")\n",
        "\n",
        "    #diff = 0\n",
        "\n",
        "    tempinput = tempinput.astype(numpy.float32)\n",
        "    tempfilter = tempfilter.astype(numpy.float32)\n",
        "    tempoutput = tempoutput.astype(numpy.float32)\n",
        "\n",
        "    tempinputD = cuda.mem_alloc(tempinput.nbytes)\n",
        "    tempfilterD = cuda.mem_alloc(tempfilter.nbytes)\n",
        "    tempoutputD = cuda.mem_alloc(tempoutput.nbytes)\n",
        "\n",
        "    cuda.memcpy_htod(tempinputD, tempinput)\n",
        "    cuda.memcpy_htod(tempfilterD, tempfilter)\n",
        "    cuda.memcpy_htod(tempoutputD, tempoutput)\n",
        "\n",
        "    #startker = time.time()\n",
        "    conv(tempinputD, tempfilterD, tempoutputD, height, width, channels, block=(32,32,1), grid=(gridWidth,gridHeight,1))  # block format is important! (width,height,1)\n",
        "    #endker = time.time()\n",
        "\n",
        "    #differencekernel = endker-startker\n",
        "    #diff += differencekernel\n",
        "\n",
        "    cuda.memcpy_dtoh(tempoutput, tempoutputD)\n",
        "\n",
        "    #end = time.time()\n",
        "    tempoutput = tempoutput + (bais*channels) #only bais?\n",
        "    tempoutput = relu_exp(tempoutput)\n",
        "    return tempoutput\n"
      ],
      "execution_count": 10,
      "outputs": []
    },
    {
      "cell_type": "code",
      "metadata": {
        "id": "AG-BTP260a0k"
      },
      "source": [
        "def convolution_layer(X,W,b):\n",
        "    (channels, height_X, width_X) = X.shape\n",
        "    \n",
        "    (filters, channels, height_W, width_W) = W.shape\n",
        "    O = numpy.zeros((height_X,width_X))\n",
        "    final_output = []\n",
        "    for f in range(filters):\n",
        "        one_filter_output = convolution_single_step_volume(X,W[f],O,b[f])\n",
        "        final_output.append(one_filter_output)\n",
        "    \n",
        "    return numpy.array(final_output)"
      ],
      "execution_count": 11,
      "outputs": []
    },
    {
      "cell_type": "code",
      "metadata": {
        "id": "TRqdBTiZvmVi"
      },
      "source": [
        "def Max_Pool_Single_Step(tempinput,tempoutput,h,w):\n",
        "\n",
        "    widthO = w/2\n",
        "    heightO = h/2\n",
        "    widthO = numpy.int32(widthO)\n",
        "    heightO = numpy.int32(heightO)\n",
        "    mod = SourceModule(\"\"\"\n",
        "    __global__ void maxpool(float *input, float *output, int inputDimX, int inputDimY, int outputDimX, int outputDimY){\n",
        "\n",
        "        int row = blockIdx.y * blockDim.y + threadIdx.y;\n",
        "        int col = blockIdx.x * blockDim.x + threadIdx.x;\n",
        "\n",
        "        if((row<outputDimY)&&(col<outputDimX)){\n",
        "            float temp[4];\n",
        "            temp[0] = input[(2*row) * inputDimX + (2*col)];\n",
        "            temp[1] = input[(2*row) * inputDimX + (2*col+1)]; \n",
        "            temp[2] = input[(2*row+1) * inputDimX + (2*col)]; \n",
        "            temp[3] = input[(2*row+1) * inputDimX + (2*col+1)];\n",
        "\n",
        "            int i;\n",
        "            float max = 0;\n",
        "            for(i=0; i<4; i++){\n",
        "                if(temp[i]>max){\n",
        "                    max = temp[i];\n",
        "                }\n",
        "            }\n",
        "            output[row * outputDimX + col] = max;\n",
        "        }\n",
        "    }\n",
        "    \"\"\")\n",
        "    height = numpy.int32(h)\n",
        "    width = numpy.int32(w)\n",
        "    \n",
        "    gridHeight = math.ceil(h/64)\n",
        "    gridWidth = math.ceil(w/64)\n",
        "\n",
        "    diff = 0\n",
        "\n",
        "    start = time.time()\n",
        "    Mpool = mod.get_function(\"maxpool\")\n",
        "\n",
        "\n",
        "    tempinput = tempinput.astype(numpy.float32)\n",
        "    tempoutput = tempoutput.astype(numpy.float32)\n",
        "\n",
        "    tempinputD = cuda.mem_alloc(tempinput.nbytes)\n",
        "    tempoutputD = cuda.mem_alloc(tempoutput.nbytes)\n",
        "\n",
        "    cuda.memcpy_htod(tempinputD, tempinput)\n",
        "    cuda.memcpy_htod(tempoutputD, tempoutput)\n",
        "\n",
        "    startker = time.time()\n",
        "    Mpool(tempinputD, tempoutputD, width, height, widthO, heightO, block=(32,32,1), grid=(gridWidth,gridHeight,1))  # block format is important! (width,height,1)\n",
        "    endker = time.time()\n",
        "    \n",
        "    differencekernel = endker-startker\n",
        "    diff += differencekernel\n",
        "\n",
        "    cuda.memcpy_dtoh(tempoutput, tempoutputD)\n",
        "    return tempoutput"
      ],
      "execution_count": 12,
      "outputs": []
    },
    {
      "cell_type": "code",
      "metadata": {
        "id": "MzD3koSPVPY1"
      },
      "source": [
        "def Max_pool_layer(X):\n",
        "    (channels,h,w) = X.shape\n",
        "    widthO = w/2\n",
        "    heightO = h/2\n",
        "    widthO = numpy.int32(widthO)\n",
        "    heightO = numpy.int32(heightO)\n",
        "    final_output = []\n",
        "    for c in range(channels):\n",
        "        output = numpy.zeros(shape=(heightO,widthO)).astype(numpy.float32)\n",
        "        one_channel_output = Max_Pool_Single_Step(X[c],output,h,w)\n",
        "        final_output.append(one_channel_output)\n",
        "    return numpy.array(final_output)"
      ],
      "execution_count": 13,
      "outputs": []
    },
    {
      "cell_type": "code",
      "metadata": {
        "id": "rHVura8KfkoE"
      },
      "source": [
        "def conv2DTranspose(tempinput, tempfilter, tempoutput, h, w):\n",
        "    mod = SourceModule(\"\"\"\n",
        "    __global__ void convTranspose(float *input, float *filter, float *output, int inputDimX, int inputDimY, int outputDimX){\n",
        "\n",
        "    int row = blockIdx.y * blockDim.y + threadIdx.y;\n",
        "    int col = blockIdx.x * blockDim.x + threadIdx.x;\n",
        "\n",
        "    int i, j;\n",
        "    for(i = 0; i < 2; i++){\n",
        "        for(j = 0; j < 2; j++){\n",
        "            if((row<inputDimY)&&(col<inputDimX)){\n",
        "                output[(2*row + i) * outputDimX + (2*col + j)] = input[row * inputDimX + col] * filter[2*i + j];\n",
        "            }\n",
        "        }\n",
        "    }\n",
        "    //output[(2*row) * outputDimX + (2*col)] = temp[0];\n",
        "    //output[(2*row) * outputDimX + (2*col+1)] = temp[1];\n",
        "    //output[(2*row+1) * outputDimX + (2*col)] = temp[2];\n",
        "    //output[(2*row+1) * outputDimX + (2*col+1)] = temp[3];\n",
        "\n",
        "    }\n",
        "    # \"\"\")\n",
        "    gridHeight = math.ceil(h/32)\n",
        "    gridWidth = math.ceil(w/32)\n",
        "\n",
        "    wo = 2*w\n",
        "\n",
        "    height = numpy.int32(h)\n",
        "    width = numpy.int32(w)\n",
        "\n",
        "    widthO = numpy.int32(wo)\n",
        "\n",
        "    #diff = 0\n",
        "\n",
        "    #start = time.time()\n",
        "    convtrans = mod.get_function(\"convTranspose\")\n",
        "\n",
        "    tempinput = tempinput.astype(numpy.float32)\n",
        "    tempfilter = tempfilter.astype(numpy.float32)\n",
        "    tempoutput = tempoutput.astype(numpy.float32)\n",
        "\n",
        "    tempinputD = cuda.mem_alloc(tempinput.nbytes)\n",
        "    tempfilterD = cuda.mem_alloc(tempfilter.nbytes)\n",
        "    tempoutputD = cuda.mem_alloc(tempoutput.nbytes)\n",
        "\n",
        "    cuda.memcpy_htod(tempinputD, tempinput)\n",
        "    cuda.memcpy_htod(tempfilterD, tempfilter)\n",
        "    cuda.memcpy_htod(tempoutputD, tempoutput)\n",
        "\n",
        "    startker = time.time()\n",
        "    convtrans(tempinputD, tempfilterD, tempoutputD, width, height, widthO, block=(32,32,1), grid=(gridWidth,gridHeight,1))  # block format is important! (width,height,1)\n",
        "    endker = time.time()\n",
        "    \n",
        "    #differencekernel = endker-startker\n",
        "    #diff += differencekernel\n",
        "\n",
        "    cuda.memcpy_dtoh(tempoutput, tempoutputD)\n",
        "\n",
        "    #end = time.time()\n",
        "\n",
        "    return tempoutput\n"
      ],
      "execution_count": 14,
      "outputs": []
    },
    {
      "cell_type": "code",
      "metadata": {
        "id": "5YlA75BYuGI-"
      },
      "source": [
        "def Conv2DTranspose_layer(X, W, b):\n",
        "    # global total_ch\n",
        "    # global total_soa\n",
        "    (n_c_prev,height,width) = X.shape\n",
        "    (filters,n_c_prev,f,f) = W.shape\n",
        "    final_output = []\n",
        "    for f in range(filters):\n",
        "        base_array = numpy.zeros(shape=(height*2,width*2)).astype(numpy.float32)  #initializing with zero\n",
        "        final_output.append([])\n",
        "        for c in range(n_c_prev):\n",
        "            # start = time.time()\n",
        "            tempoutput = numpy.zeros(shape=(height*2,width*2))\n",
        "            one_channel_output =  conv2DTranspose(X[c], W[f][c], tempoutput, height, width)\n",
        "            # print(\"input\",X[c])\n",
        "            # print(\"filter\",W[f][c])\n",
        "            # print(\"output\",one_channel_output)\n",
        "            # end = time.time()\n",
        "            # total_ch+=(end-start)\n",
        "            #print(np.array(one_channel_output).shape)\n",
        "            # start = time.time()\n",
        "            # one_kernel_output = sum_of_arrays(base_array,one_channel_output)\n",
        "            one_kernel_output = kernel_for_sum(base_array,one_channel_output)\n",
        "            #print(\"channel output\", one_kernel_output)\n",
        "            # end = time.time()\n",
        "            #print(\"Time for one iteration:\",end-start)\n",
        "            # total_soa+=(end-start)\n",
        "            #print(np.array(one_kernel_output).shape)\n",
        "            base_array = one_kernel_output\n",
        "        one_kernel_output = one_kernel_output + (b[f]*n_c_prev)\n",
        "        one_kernel_output = relu_exp(one_kernel_output)\n",
        "        final_output[-1] = one_kernel_output\n",
        "    return numpy.array(final_output)"
      ],
      "execution_count": 15,
      "outputs": []
    },
    {
      "cell_type": "code",
      "metadata": {
        "id": "tf8yndmsDJ1g"
      },
      "source": [
        "def concat(X,X_prev):\n",
        "    (channels,height,width) = X_prev.shape\n",
        "    output = []\n",
        "    for ch in range(channels):\n",
        "        output.append(X[ch])\n",
        "    for ch in range(channels):\n",
        "        output.append(X_prev[ch])\n",
        "    return numpy.array(output)"
      ],
      "execution_count": 16,
      "outputs": []
    },
    {
      "cell_type": "markdown",
      "metadata": {
        "id": "9Xi-H1PG4QdF"
      },
      "source": [
        "## Preprocessing of Weights"
      ]
    },
    {
      "cell_type": "code",
      "metadata": {
        "id": "A7aE02Ec6Hei"
      },
      "source": [
        "weights = h5py.File('/content/drive/MyDrive/w.hdf5', 'r')\n",
        "W_11 = weights['model_weights']['conv2d_1']['conv2d_1']['kernel:0'][:]\n",
        "W_11 = formatting(W_11)\n",
        "b_11 = weights['model_weights']['conv2d_1']['conv2d_1']['bias:0'][:] #(32,)\n",
        "W_12 = weights['model_weights']['conv2d_2']['conv2d_2']['kernel:0'][:]\n",
        "W_12 = formatting(W_12)\n",
        "b_12 = weights['model_weights']['conv2d_2']['conv2d_2']['bias:0'][:]\n",
        "\n",
        "W_21 = weights['model_weights']['conv2d_3']['conv2d_3']['kernel:0'][:]\n",
        "W_21 = formatting(W_21)\n",
        "b_21 = weights['model_weights']['conv2d_3']['conv2d_3']['bias:0'][:]\n",
        "W_22 = weights['model_weights']['conv2d_4']['conv2d_4']['kernel:0'][:]\n",
        "W_22 = formatting(W_22)\n",
        "b_22 = weights['model_weights']['conv2d_4']['conv2d_4']['bias:0'][:]\n",
        "\n",
        "W_31 = weights['model_weights']['conv2d_5']['conv2d_5']['kernel:0'][:]\n",
        "W_31 = formatting(W_31)\n",
        "b_31 = weights['model_weights']['conv2d_5']['conv2d_5']['bias:0'][:]\n",
        "W_32 = weights['model_weights']['conv2d_6']['conv2d_6']['kernel:0'][:]\n",
        "W_32 = formatting(W_32)\n",
        "b_32 = weights['model_weights']['conv2d_6']['conv2d_6']['bias:0'][:]\n",
        "\n",
        "W_41 = weights['model_weights']['conv2d_7']['conv2d_7']['kernel:0'][:]\n",
        "W_41 = formatting(W_41)\n",
        "b_41 = weights['model_weights']['conv2d_7']['conv2d_7']['bias:0'][:]\n",
        "W_42 = weights['model_weights']['conv2d_8']['conv2d_8']['kernel:0'][:]\n",
        "W_42 = formatting(W_42)\n",
        "b_42 = weights['model_weights']['conv2d_8']['conv2d_8']['bias:0'][:]\n",
        "\n",
        "W_51 = weights['model_weights']['conv2d_9']['conv2d_9']['kernel:0'][:]\n",
        "W_51 = formatting(W_51)\n",
        "b_51 = weights['model_weights']['conv2d_9']['conv2d_9']['bias:0'][:]\n",
        "W_52 = weights['model_weights']['conv2d_10']['conv2d_10']['kernel:0'][:]\n",
        "W_52 = formatting(W_52)\n",
        "b_52 = weights['model_weights']['conv2d_10']['conv2d_10']['bias:0'][:]\n",
        "\n",
        "W_61 = weights['model_weights']['conv2d_transpose_1']['conv2d_transpose_1']['kernel:0'][:]\n",
        "W_61 = weight_transpose_formatting(W_61)\n",
        "b_61 = weights['model_weights']['conv2d_transpose_1']['conv2d_transpose_1']['bias:0'][:]\n",
        "\n",
        "W_62 = weights['model_weights']['conv2d_11']['conv2d_11']['kernel:0'][:]\n",
        "W_62 = formatting(W_62)\n",
        "b_62 = weights['model_weights']['conv2d_11']['conv2d_11']['bias:0'][:]\n",
        "W_63 = weights['model_weights']['conv2d_12']['conv2d_12']['kernel:0'][:]\n",
        "W_63 = formatting(W_63)\n",
        "b_63 = weights['model_weights']['conv2d_12']['conv2d_12']['bias:0'][:]\n",
        "\n",
        "W_71 = weights['model_weights']['conv2d_transpose_2']['conv2d_transpose_2']['kernel:0'][:]\n",
        "W_71 = weight_transpose_formatting(W_71)\n",
        "b_71 = weights['model_weights']['conv2d_transpose_2']['conv2d_transpose_2']['bias:0'][:]\n",
        "\n",
        "\n",
        "W_72 = weights['model_weights']['conv2d_13']['conv2d_13']['kernel:0'][:]\n",
        "W_72 = formatting(W_72)\n",
        "b_72 = weights['model_weights']['conv2d_13']['conv2d_13']['bias:0'][:]\n",
        "W_73 = weights['model_weights']['conv2d_14']['conv2d_14']['kernel:0'][:]\n",
        "W_73 = formatting(W_73)\n",
        "b_73 = weights['model_weights']['conv2d_14']['conv2d_14']['bias:0'][:]\n",
        "\n",
        "W_81 = weights['model_weights']['conv2d_transpose_3']['conv2d_transpose_3']['kernel:0'][:]\n",
        "W_81 = weight_transpose_formatting(W_81)\n",
        "b_81 = weights['model_weights']['conv2d_transpose_3']['conv2d_transpose_3']['bias:0'][:]\n",
        "\n",
        "\n",
        "W_82 = weights['model_weights']['conv2d_15']['conv2d_15']['kernel:0'][:]\n",
        "W_82 = formatting(W_82)\n",
        "b_82 = weights['model_weights']['conv2d_15']['conv2d_15']['bias:0'][:]\n",
        "W_83 = weights['model_weights']['conv2d_16']['conv2d_16']['kernel:0'][:]\n",
        "W_83 = formatting(W_83)\n",
        "b_83 = weights['model_weights']['conv2d_16']['conv2d_16']['bias:0'][:]\n",
        "\n",
        "W_91 = weights['model_weights']['conv2d_transpose_4']['conv2d_transpose_4']['kernel:0'][:]\n",
        "W_91 = weight_transpose_formatting(W_91)\n",
        "b_91 = weights['model_weights']['conv2d_transpose_4']['conv2d_transpose_4']['bias:0'][:]\n",
        "\n",
        "\n",
        "W_92 = weights['model_weights']['conv2d_17']['conv2d_17']['kernel:0'][:]\n",
        "W_92 = formatting(W_92)\n",
        "b_92 = weights['model_weights']['conv2d_17']['conv2d_17']['bias:0'][:]\n",
        "W_93 = weights['model_weights']['conv2d_18']['conv2d_18']['kernel:0'][:]\n",
        "W_93 = formatting(W_93)\n",
        "b_93 = weights['model_weights']['conv2d_18']['conv2d_18']['bias:0'][:]\n",
        "\n",
        "W_out = weights['model_weights']['conv2d_19']['conv2d_19']['kernel:0'][:]\n",
        "W_out = formatting(W_out)\n",
        "b_out = weights['model_weights']['conv2d_19']['conv2d_19']['bias:0'][:]"
      ],
      "execution_count": 17,
      "outputs": []
    },
    {
      "cell_type": "code",
      "metadata": {
        "colab": {
          "base_uri": "https://localhost:8080/"
        },
        "id": "cy0vpiiyQST2",
        "outputId": "144cc246-cc0d-4cce-9d3f-91c519df6708"
      },
      "source": [
        "from google.colab import drive\n",
        "drive.mount('/content/drive')"
      ],
      "execution_count": 3,
      "outputs": [
        {
          "output_type": "stream",
          "name": "stdout",
          "text": [
            "Mounted at /content/drive\n"
          ]
        }
      ]
    },
    {
      "cell_type": "code",
      "metadata": {
        "id": "3Ad1AruP-3BH"
      },
      "source": [
        "Z_1 = convolution_layer(img, W_11, b_11)\n",
        "print(Z_1.shape)\n",
        "\n",
        "Z_1 = convolution_layer(Z_1, W_12, b_12)\n",
        "print(Z_1.shape)\n",
        "\n",
        "A_1 = Max_pool_layer(Z_1)\n",
        "print( A_1.shape)"
      ],
      "execution_count": null,
      "outputs": []
    },
    {
      "cell_type": "code",
      "metadata": {
        "colab": {
          "base_uri": "https://localhost:8080/"
        },
        "id": "hbXgBiJuA_MB",
        "outputId": "264441b1-c3c1-4194-a439-14f95c2367c5"
      },
      "source": [
        "\n",
        "Z_2 = convolution_layer(A_1, W_21, b_21)\n",
        "print(Z_2.shape)\n",
        "\n",
        "\n",
        "Z_2 = convolution_layer(Z_2, W_22, b_22)\n",
        "print(Z_2.shape)\n",
        "\n",
        "A_2 = Max_pool_layer(Z_2)\n",
        "print( A_2.shape)"
      ],
      "execution_count": null,
      "outputs": [
        {
          "output_type": "stream",
          "name": "stdout",
          "text": [
            "(64, 200, 144)\n",
            "(64, 200, 144)\n",
            "(64, 100, 72)\n"
          ]
        }
      ]
    },
    {
      "cell_type": "code",
      "metadata": {
        "colab": {
          "base_uri": "https://localhost:8080/"
        },
        "id": "w6gderLnBlIF",
        "outputId": "0a2196b8-cee7-43db-b58a-6e8ed013f5c4"
      },
      "source": [
        "\n",
        "Z_3 = convolution_layer(A_2, W_31, b_31)\n",
        "print(Z_3.shape)\n",
        "\n",
        "\n",
        "Z_3 = convolution_layer(Z_3, W_32, b_32)\n",
        "print(Z_3.shape)\n",
        "\n",
        "# hparameters = {\"stride\" : 2, \"f\": 2}\n",
        "A_3 = Max_pool_layer(Z_3)\n",
        "print( A_3.shape)"
      ],
      "execution_count": null,
      "outputs": [
        {
          "output_type": "stream",
          "name": "stdout",
          "text": [
            "(128, 100, 72)\n",
            "(128, 100, 72)\n",
            "(128, 50, 36)\n"
          ]
        }
      ]
    },
    {
      "cell_type": "code",
      "metadata": {
        "colab": {
          "base_uri": "https://localhost:8080/"
        },
        "id": "2kqjwgvnCB-U",
        "outputId": "db85d22e-9eb7-4b0b-80b3-d0bd4b0780d1"
      },
      "source": [
        "\n",
        "Z_4 = convolution_layer(A_3, W_41, b_41)\n",
        "print(Z_4.shape)\n",
        "\n",
        "Z_4 = convolution_layer(Z_4, W_42, b_42)\n",
        "print(Z_4.shape)\n",
        "\n",
        "# hparameters = {\"stride\" : 2, \"f\": 2}\n",
        "A_4 = Max_pool_layer(Z_4)\n",
        "print( A_4.shape)"
      ],
      "execution_count": null,
      "outputs": [
        {
          "output_type": "stream",
          "name": "stdout",
          "text": [
            "(256, 50, 36)\n",
            "(256, 50, 36)\n",
            "(256, 25, 18)\n"
          ]
        }
      ]
    },
    {
      "cell_type": "code",
      "metadata": {
        "colab": {
          "base_uri": "https://localhost:8080/"
        },
        "id": "2qAr4JO-CgcU",
        "outputId": "803f42cb-1d28-4c98-ca15-1d4888b61e07"
      },
      "source": [
        "Z_5 = convolution_layer(A_4, W_51, b_51)\n",
        "print(Z_5.shape)\n",
        "\n",
        "Z_5 = convolution_layer(Z_5, W_52, b_52)\n",
        "print(Z_5.shape)"
      ],
      "execution_count": null,
      "outputs": [
        {
          "output_type": "stream",
          "name": "stdout",
          "text": [
            "(512, 25, 18)\n",
            "(512, 25, 18)\n"
          ]
        }
      ]
    },
    {
      "cell_type": "code",
      "metadata": {
        "colab": {
          "base_uri": "https://localhost:8080/"
        },
        "id": "ceGLhPdvC2lp",
        "outputId": "6d514a97-815d-4e8f-d842-f1c48acd990a"
      },
      "source": [
        "Z_6T = Conv2DTranspose_layer(Z_5, W_61, b_61)\n",
        "print(Z_6T.shape)\n",
        "\n",
        "Z_61 = concat(Z_6T,Z_4)\n",
        "print(Z_61.shape)\n",
        "\n",
        "Z_6 = convolution_layer(Z_61, W_62, b_62)\n",
        "print(Z_6.shape)\n",
        "\n",
        "Z_6 = convolution_layer(Z_6, W_63, b_63)\n",
        "print(Z_6.shape)\n"
      ],
      "execution_count": null,
      "outputs": [
        {
          "output_type": "stream",
          "name": "stdout",
          "text": [
            "(256, 50, 36)\n",
            "(512, 50, 36)\n",
            "(256, 50, 36)\n",
            "(256, 50, 36)\n"
          ]
        }
      ]
    },
    {
      "cell_type": "code",
      "metadata": {
        "id": "fffBv8lnscFv"
      },
      "source": [
        "Z_7T = Conv2DTranspose_layer(Z_6, W_71, b_71)\n",
        "print(Z_7T.shape)\n",
        "\n",
        "Z_71 = concat(Z_7T,Z_3)\n",
        "print(Z_71.shape)\n",
        "\n",
        "Z_7 = convolution_layer(Z_71, W_72, b_72)\n",
        "print(Z_7.shape)\n",
        "\n",
        "Z_7 = convolution_layer(Z_7, W_73, b_73)\n",
        "print(Z_7.shape)"
      ],
      "execution_count": null,
      "outputs": []
    },
    {
      "cell_type": "code",
      "metadata": {
        "id": "ycEcUsyezZz2",
        "colab": {
          "base_uri": "https://localhost:8080/"
        },
        "outputId": "6a77fd1b-1bac-43f5-c16c-40385029aa7b"
      },
      "source": [
        "Z_8T = Conv2DTranspose_layer(Z_7, W_81, b_81)\n",
        "print(Z_8T.shape)\n",
        "\n",
        "Z_81 = concat(Z_8T,Z_2)\n",
        "print(Z_81.shape)\n",
        "\n",
        "Z_8 = convolution_layer(Z_81, W_82, b_82)\n",
        "print(Z_8.shape)\n",
        "\n",
        "Z_8 = convolution_layer(Z_8, W_83, b_83)\n",
        "print(Z_8.shape)"
      ],
      "execution_count": 19,
      "outputs": [
        {
          "output_type": "stream",
          "name": "stdout",
          "text": [
            "(64, 200, 144)\n",
            "(128, 200, 144)\n",
            "(64, 200, 144)\n",
            "(64, 200, 144)\n"
          ]
        }
      ]
    },
    {
      "cell_type": "code",
      "metadata": {
        "colab": {
          "base_uri": "https://localhost:8080/"
        },
        "id": "KoA1qu5-QvQE",
        "outputId": "872d174c-c1fc-449e-bed7-7d3901adad5f"
      },
      "source": [
        "Z_9T = Conv2DTranspose_layer(Z_8, W_91, b_91)\n",
        "print(Z_9T.shape)\n",
        "\n",
        "Z_91 = concat(Z_9T,Z_1)\n",
        "print(Z_91.shape)\n",
        "\n",
        "Z_9 = convolution_layer(Z_91, W_92, b_92)\n",
        "print(Z_9.shape)\n",
        "\n",
        "Z_9 = convolution_layer(Z_9, W_93, b_93)\n",
        "print(Z_9.shape)"
      ],
      "execution_count": 26,
      "outputs": [
        {
          "output_type": "stream",
          "name": "stdout",
          "text": [
            "(32, 400, 288)\n",
            "(64, 400, 288)\n",
            "(32, 400, 288)\n",
            "(32, 400, 288)\n"
          ]
        }
      ]
    },
    {
      "cell_type": "code",
      "metadata": {
        "id": "Nhq8b3bWRsTo"
      },
      "source": [
        "Z_out = convolution_layer(Z_9, W_out, b_out)\n",
        "Z_out = deformatting(Z_out)\n",
        "print(Z_out.shape)"
      ],
      "execution_count": null,
      "outputs": []
    },
    {
      "cell_type": "code",
      "metadata": {
        "id": "xQ1nqvh0XV7x"
      },
      "source": [
        "print(Z_out)\n",
        "# Z_out_1 = Z_out*255, use if required"
      ],
      "execution_count": null,
      "outputs": []
    },
    {
      "cell_type": "code",
      "metadata": {
        "colab": {
          "base_uri": "https://localhost:8080/",
          "height": 304
        },
        "id": "5H6zApWFY8BJ",
        "outputId": "92b66d6a-3603-40cb-d0dd-a191fc5d82d5"
      },
      "source": [
        "plt.imshow(Z_out[:,:,0])"
      ],
      "execution_count": 24,
      "outputs": [
        {
          "output_type": "stream",
          "name": "stdout",
          "text": [
            "\n"
          ]
        },
        {
          "output_type": "execute_result",
          "data": {
            "text/plain": [
              "<matplotlib.image.AxesImage at 0x7fec1d8e8cd0>"
            ]
          },
          "metadata": {},
          "execution_count": 24
        },
        {
          "output_type": "display_data",
          "data": {
            "image/png": "[encoded data removed]",
            "text/plain": [
              "<Figure size 360x288 with 1 Axes>"
            ]
          },
          "metadata": {
            "needs_background": "light"
          }
        }
      ]
    }
  ]
}